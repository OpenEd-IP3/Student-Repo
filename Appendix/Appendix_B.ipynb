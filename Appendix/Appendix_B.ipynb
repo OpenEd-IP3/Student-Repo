{
 "cells": [
  {
   "cell_type": "markdown",
   "metadata": {},
   "source": [
    "# Appendix B: Serial Communication with Windows\n",
    "\n",
    "This Appendix describes how the serial connection to the car from Windows (using Bluetooth) is implemented.\n",
    "\n",
    "## Connecting KITT to a PC on Windows 10\n",
    "\n",
    "In the figure below, the steps can be seen how KITT can be connected to a PC with Windows 10 installed. \n",
    "\n",
    "- Note that all KITTs have their Bluetooth hardware address written in the front of the car. Use this identifier to choose the right Bluetooth device to pair: Step 3 and 4.\n",
    "\n",
    "- Step 6, the correct port to take note of is the one listed as *Outgoing*. This is the port you have to use in your setup.\n",
    "\n",
    "### Steps how to connect KITT to the PC\n",
    "\n",
    "![Steps how to connect KITT to PC](../pictures/steps.png)\n"
   ]
  }
 ],
 "metadata": {
  "language_info": {
   "name": "python"
  }
 },
 "nbformat": 4,
 "nbformat_minor": 2
}
