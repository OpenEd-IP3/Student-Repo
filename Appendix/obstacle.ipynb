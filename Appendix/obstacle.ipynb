{
 "cells": [
  {
   "cell_type": "markdown",
   "metadata": {},
   "source": [
    "# Obstacle avoidance (advanced methods)\n",
    "**⚠️ Optional Advanced method**\n",
    "The contents of this module cover advanced topics that not all students are expected to understand."
   ]
  },
  {
   "cell_type": "markdown",
   "metadata": {},
   "source": [
    "Instead of using a decision tree with multiple if-else conditions, a more streamlined approach is to construct an occupancy map of the environment. When a potential obstacle is detected, you update this map by marking its estimated location. For example, an occupancy map might look like this:"
   ]
  },
  {
   "cell_type": "code",
   "execution_count": null,
   "metadata": {},
   "outputs": [],
   "source": [
    "import numpy as np\n",
    "import matplotlib.pyplot as plt\n",
    "\n",
    "# Define the grid size\n",
    "grid_size = (10, 10)  # 10x10 grid\n",
    "occupancy_grid = np.zeros(grid_size)\n",
    "\n",
    "# Mark some obstacles (set 1 for obstacles)\n",
    "# Example: Creating a block of obstacles\n",
    "occupancy_grid[2:4, 2:4] = 1  # Obstacle block in (2,2) to (3,3)\n",
    "occupancy_grid[6:9, 6] = 1    # Vertical obstacle at x = 6\n",
    "occupancy_grid[7, 7:9] = 1    # Horizontal obstacle at y = 7\n",
    "\n",
    "# Function to visualize the occupancy grid\n",
    "def plot_occupancy_grid(grid):\n",
    "    plt.imshow(grid, cmap='gray_r', origin='upper')\n",
    "    plt.grid(True)\n",
    "    plt.xticks(np.arange(grid.shape[1]))\n",
    "    plt.yticks(np.arange(grid.shape[0]))\n",
    "    plt.title(\"Occupancy Grid for Path Planning\")\n",
    "    plt.show()\n",
    "\n",
    "# Plot the grid\n",
    "plot_occupancy_grid(occupancy_grid)\n"
   ]
  },
  {
   "cell_type": "markdown",
   "metadata": {},
   "source": [
    "With an updated map that includes obstacles, you can identify when a planned path intersects with one. If an obstacle is detected along your current path, the path is considered invalid, and a new route must be calculated to avoid the obstacle."
   ]
  },
  {
   "cell_type": "markdown",
   "metadata": {},
   "source": [
    "**Potential Field Method in Robotics**\n",
    "\n",
    "The Potential Field Method is a navigation technique in robotics that emulates certain natural physical phenomena to guide a robot toward a goal. Think about how a charged particle moves within an electric or magnetic field, or how a ball naturally rolls downhill due to gravity. In these cases, the movement is influenced by fields or slopes that direct the object toward a particular point—like the source of the field or the lowest point in the valley.\n",
    "\n",
    "In robotic applications, we replicate this idea by creating an artificial potential field within the robot's operating environment. This field is engineered to pull the robot toward a designated goal location. By carefully designing the characteristics of this potential field, we can induce specific behaviors in the robot, such as moving smoothly toward the target.\n",
    "\n",
    "**How Does the Potential Field Method Work?**\n",
    "\n",
    "Imagine a scenario where the robot needs to reach a goal position, and there are no obstacles in its path. Traditionally, you might calculate the robot's position relative to the goal and then determine the exact control actions required—like setting specific velocities or steering angles—to move directly toward the goal.\n",
    "\n",
    "In contrast, the potential field approach involves the following steps:\n",
    "\n",
    "1. **Creation of an Attractive Field**: We define a potential field over the entire free space that has its lowest value at the goal position. This field effectively creates a \"downhill\" slope leading to the goal.\n",
    "\n",
    "2. **Evaluation of the Field at the Robot's Position**: At each time step, the robot assesses the potential field at its current location.\n",
    "\n",
    "3. **Calculation of the Induced Force**: The robot computes the gradient (slope) of the potential field at its position. This gradient represents the force acting on the robot, analogous to how gravity would pull a ball downhill.\n",
    "\n",
    "4. **Movement Toward the Goal**: The robot moves in the direction indicated by the force, which naturally leads it toward the goal.\n",
    "\n",
    "\n",
    "\n"
   ]
  },
  {
   "cell_type": "markdown",
   "metadata": {},
   "source": [
    "Obstacles can be avoided using the Potential Field Method by assigning repulsive potential fields to them. While the goal generates an attractive potential field that pulls the robot toward it, each obstacle creates a repulsive field that pushes the robot away. A guide on how to this on python can be found at : https://medium.com/nerd-for-tech/local-path-planning-using-virtual-potential-field-in-python-ec0998f490af"
   ]
  }
 ],
 "metadata": {
  "kernelspec": {
   "display_name": "OpenEdVenv",
   "language": "python",
   "name": "python3"
  },
  "language_info": {
   "codemirror_mode": {
    "name": "ipython",
    "version": 3
   },
   "file_extension": ".py",
   "mimetype": "text/x-python",
   "name": "python",
   "nbconvert_exporter": "python",
   "pygments_lexer": "ipython3",
   "version": "3.12.6"
  }
 },
 "nbformat": 4,
 "nbformat_minor": 2
}
