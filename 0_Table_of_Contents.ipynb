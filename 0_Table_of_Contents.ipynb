{
 "cells": [
  {
   "cell_type": "markdown",
   "metadata": {},
   "source": [
    "![book header](pictures/header.png)\n",
    "# Table of Contents\n",
    "\n",
    "\n",
    "Chapter 1: [Introduction](1_Introduction.ipynb)\n",
    "\n",
    "Chapter 2: [Module 0, Before We Start](2_Before_Re_Start.ipynb)\n",
    "\n",
    "Chapter 3:  [Module 1, Connecting with and Controlling KITT](3_Module_1.ipynb)\n",
    "\n",
    "Chapter 4:  [Module 2, Reading KITT Sensor Data](4_Module_2.ipynb)\n",
    "\n",
    "Chapter 5:  [Module 3, Locating KITT Using Audio Communication ](5_Module_3.ipynb)\n",
    "\n",
    "Chapter 6: [ Module 4, Car Model](6_Module_4.ipynb)\n",
    "\n",
    "Chapter 7: [ Mid-term report](7_Midterm_Report.ipynb)\n",
    "\n",
    "Chapter 8:  [Module 5 - Navigating KITT and Final Challenges](8_Module_5.ipynb) \n",
    "\n",
    "Appendix A: [Programming the Audio Beacon](appendix/Appendix_A.md)\n",
    "\n",
    "Appendix B: [Serial Communication with Windows](appendix/Appendix_B.md)\n",
    "\n",
    "Appendix C: [TDOA Localization Algorithm](appendix/Appendix_C.ipynb)\n"
   ]
  }
 ],
 "metadata": {
  "language_info": {
   "name": "python"
  }
 },
 "nbformat": 4,
 "nbformat_minor": 2
}
